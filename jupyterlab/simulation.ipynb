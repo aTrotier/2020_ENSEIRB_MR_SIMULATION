{
 "cells": [
  {
   "cell_type": "markdown",
   "metadata": {},
   "source": [
    "<center><h1>TP IRM SIMULATION</h1>\n",
    "<b>Aurélien Trotier</b> : Février 2020\n",
    "</center>\n",
    "\n",
    "Le signal IRM peut-être représenté grâce à l'équation de Bloch :\n",
    "\n",
    "$\\frac{d\\vec{M}}{dt} = \\gamma \\vec{M} \\times \\vec{B}_{ext} + \\frac{1}{T_1} (M_0 - M_z)\\vec{z} - \\frac{1}{T_2} \\vec{M}_\\perp$\n",
    "\n",
    "<h3>1. Préparation des sous-fonctions</h3>\n",
    "\n",
    "Préparez les fonctions nécessaires à la simulation du signal IRM :\n",
    "\n",
    "- xrot(angle), yrot(angle) et zrot(angle) : qui retourne une matrice de rotation à partir d'un angle (en radian)\n",
    "- throt(phi,theta) : si l'angle de rotation est transverse (différent de x/y) (utilisez les fonctions précédentes : $Rth(phi,theta)=Rz(theta)*Rx(phi)*Rz(-theta)$)\n",
    "- freeprecess(T,T1,T2,df) : calcul des opérateurs de relaxation en fonction du T1 et T2, de l'off-resonance de l'isochromat df durant un délai T\n",
    "\n",
    "Validez que les fonctions fonctionnes bien (affichage d'une flèche avant et après rotation par exemple)"
   ]
  },
  {
   "cell_type": "code",
   "execution_count": 1,
   "metadata": {},
   "outputs": [],
   "source": [
    "import numpy as np\n",
    "import matplotlib.pyplot as plt\n",
    "from matplotlib.pyplot import figure, plot, subplot, title, xlabel, ylabel\n",
    "\n",
    "from numpy import mean, std, exp, diag, matmul, pi, cos, sin, zeros, ones, shape, floor, ceil\n",
    "from IPython.display import display\n",
    "\n",
    "import ipywidgets as widgets\n",
    "#--------------------------------------------------------\n",
    "#  By convention all rotations are left-handed\n",
    "#--------------------------------------------------------\n",
    "\n",
    "# Returns 3x3 matrix for left-handed rotation about x\n",
    "def xrot(angle = 0., in_degs = False):\n",
    "    if in_degs:\n",
    "        angle = angle*np.pi/180.\n",
    "    c = np.cos(angle)    \n",
    "    s = np.sin(angle)    \n",
    "    M = np.array([[1.,0.,0.],[0., c, -s],[0,s, c]])\n",
    "    return M\n",
    "\n",
    "# Returns 3x3 matrix for left-handed rotation about y\n",
    "def yrot(angle = 0., in_degs = False):\n",
    "    if in_degs:\n",
    "        angle = angle*np.pi/180.\n",
    "    c = np.cos(angle)    \n",
    "    s = np.sin(angle)    \n",
    "    M = np.array([[c,0.,s],[0.,1.,0.],[-s,0.,c]])\n",
    "    return M\n",
    "\n",
    "\n",
    "# Returns 3x3 matrix for left-handed rotation about z\n",
    "def zrot(angle = 0., in_degs = False):\n",
    "    'This is equivalent to help'\n",
    "    if in_degs:\n",
    "        angle = angle*np.pi/180.\n",
    "    c = np.cos(angle)    \n",
    "    s = np.sin(angle)    \n",
    "    M = np.array([[c,-s,0.],[s,c,0],[0.,0.,1.]])\n",
    "    return M\n",
    "\n",
    "\n",
    "# Returns 3x3 matrix for rotation about axis in x-y plan phi away from x\n",
    "def throt(theta = 0., phi=0., in_degs = True):\n",
    "    'This is equivalent to help'\n",
    "    if in_degs:\n",
    "        theta = theta*np.pi/180.\n",
    "        phi = phi*np.pi/180.\n",
    "     \n",
    "# Returns A & B function    \n",
    "def freeprecess(t,T1 = 4., T2 = 0.1, df = 0):\n",
    "    T1 = T1 * 1.\n",
    "    T2 = T2 * 1.\n",
    "    t = t * 1.\n",
    "    \n",
    "    phi = 2*pi*df*t\n",
    "    E1 = np.exp(-t/T1)\n",
    "    E2 = np.exp(-t/T2)\n",
    "    A = matmul(np.diag([E2, E2, E1]),zrot(phi,False))\n",
    "    B = np.array([0,0,1-E1]) \n",
    "       \n",
    "    B = np.reshape(B,[3,1])\n",
    "    return A,B"
   ]
  },
  {
   "cell_type": "code",
   "execution_count": 2,
   "metadata": {},
   "outputs": [],
   "source": [
    "\n",
    "# define plot    \n",
    "def setprops():\n",
    "    import matplotlib.style as style\n",
    "    style.use('seaborn') # 'ggplot'   \n",
    "    \n",
    "# Label plot with x,y axis labels, and title.  Turn on grid by default\n",
    "#\n",
    "# INPUT:\n",
    "#\txlab = x-axis label\n",
    "#\tylab = y-axis label\n",
    "#\tptitle = plot title\n",
    "#\tax = plot axis limits (4-tuple)\n",
    "#\tgridon = True to turn on grid\n",
    "#\tlegend = True to turn on legend\n",
    "#\n",
    "def lplot(xlab = None,ylab = None, ptitle = None,ax = None,gridon = True,legend=False):\n",
    "    if xlab is not None:\n",
    "      xlabel(xlab)\n",
    "    if ylab is not None:\n",
    "      ylabel(ylab)\n",
    "    if ptitle is not None:\n",
    "      title(ptitle)\n",
    "    if ax is not None:\n",
    "      plt.axis(ax)\n",
    "    if (gridon is True):\n",
    "      plt.grid(gridon)\n",
    "    if (legend is True):\n",
    "      plt.legend()"
   ]
  },
  {
   "cell_type": "markdown",
   "metadata": {},
   "source": [
    "<h3>2. Signal de précession libre</h3>\n",
    "\n",
    "Simuler 2 signaux de precession libre (correspondant à l'évolution du signal après une impulsion radiofréquence)  avec une valeur d'off-resonance de 0 ou 10 Hz :\n",
    "\n",
    "- angle = $$\\frac{\\pi}{2}$$ correspondant à une aimantation de départ selon l'axe $$\\vec{M} = \\begin{bmatrix}\n",
    "  0\\\\ \n",
    "  1\\\\\n",
    "  0\n",
    "  \\end{bmatrix}$$  \n",
    "- Pas de simulation : 1 ms\n",
    "- Durée de simulation : 1000 ms\n",
    "- Off-resonance : 0 ou 10 Hz\n",
    "- T1 = 600 ms\n",
    "- T2 = 100 ms\n",
    "\n",
    "<u>Expliquez la différence entre les 2 simulations ?</u>"
   ]
  },
  {
   "cell_type": "code",
   "execution_count": 27,
   "metadata": {
    "scrolled": true
   },
   "outputs": [
    {
     "output_type": "display_data",
     "data": {
      "text/plain": "interactive(children=(IntSlider(value=50, description='df'), Output()), _dom_classes=('widget-interact',))",
      "application/vnd.jupyter.widget-view+json": {
       "version_major": 2,
       "version_minor": 0,
       "model_id": "98668c3f3d1e4cb6a980ae01a1e13d73"
      }
     },
     "metadata": {}
    },
    {
     "output_type": "execute_result",
     "data": {
      "text/plain": [
       "<function __main__.plotSimu(df)>"
      ]
     },
     "metadata": {},
     "execution_count": 27
    }
   ],
   "source": [
    "##\n",
    "def simuFID(df,dT,T,N,T1,T2):\n",
    "    ## Simulation with offresonance = 0 hz\n",
    "    A,B = freeprecess(dT,T1, T2, df)\n",
    "    # Simulate the decay\n",
    "    M = np.zeros((3, int(N)))\n",
    "    # initiliaze aimantation along x (like flip angle 90°)\n",
    "    M[:,0] = np.array([0,1,0])\n",
    "    # propagate the relaxation along the time\n",
    "    for k in range(1, N):\n",
    "      M[:,k] = matmul(A,M[:,k-1])+B[:,0]\n",
    "\n",
    "    return M\n",
    "\n",
    "def plotSimu(df):\n",
    "  # definition of parameters\n",
    "  dT = 0.001\n",
    "  T = 1\n",
    "  N = int(np.ceil(T/dT))+1\n",
    "  T1 = 0.600\n",
    "  T2 = 0.100\n",
    "\n",
    "  M = simuFID(df,dT,T,N,T1,T2)\n",
    "\n",
    "  # Plot of Mz for    \n",
    "  t = np.arange(0, T+dT, dT)\n",
    "\n",
    "  plt.plot(t,M[0,:])\n",
    "  plt.text(1.05, -0.1, 'Mx', horizontalalignment='left', color='blue')\n",
    "  plt.plot(t,M[1,:])\n",
    "  plt.text(1.05, 0.1, 'My', horizontalalignment='left', color='green')\n",
    "  plt.plot(t,M[2,:])\n",
    "  plt.text(1.05, M[2,-1], 'Mz', horizontalalignment='left', color='red')\n",
    "  lplot('Time (s)','M','Relaxation of aimantation along the time',[0, 1.1, -1.1, 1.2])\n",
    "\n",
    "widgets.interact(plotSimu, df=(0, 100, 1))\n"
   ]
  },
  {
   "cell_type": "markdown",
   "metadata": {},
   "source": [
    "<h3>3. Echo de gradient</h3>\n",
    "\n",
    "![Gradient_Echo](img/Gradient_Echo.png)\n",
    "\n",
    "Simuler le signal d'une séquence écho de gradient avec les paramètres ci-dessous :\n",
    "\n",
    "```df = 0;\t% Hz off-resonance.\n",
    "df = 0;     % Hz\n",
    "T1 = 600;\t  % ms\n",
    "T2 = 100;\t  % ms\n",
    "TE = 1;     % ms\n",
    "TR = 500;   % ms\n",
    "alpha = 60; % deg\n",
    "```\n",
    "\n",
    "* Quelle est la valeur de l'aimantation au temps TE après la 1ère impulsion de radiofréquence et après la seconde ? Expliquez la différence."
   ]
  },
  {
   "cell_type": "code",
   "execution_count": null,
   "metadata": {},
   "outputs": [],
   "source": []
  },
  {
   "cell_type": "markdown",
   "metadata": {},
   "source": [
    "* Combien de TR sont nécessaire pour atteindre un état d'équilibre ( **steady-state**) que l'on définira ici par une modification du signal inférieur à 1%."
   ]
  },
  {
   "cell_type": "markdown",
   "metadata": {},
   "source": [
    "* Calculez la valeur exact de l'état d'équilibre au TR puis au TE. Ecrivez une fonction **[Msig,Mss]=sssignal(flip,T1,T2,TE,TR,dfreq) ** permettant de calculer le signal de steady-state au TE (Mss) et juste la valeur complexe dans le plan : $$Msig = Mss(1)+i*Mss(2)$$"
   ]
  },
  {
   "cell_type": "markdown",
   "metadata": {},
   "source": [
    "Dans le cas d'une séquence **FLASH** (**F**ast **L**ow **A**ngle **SH**ot) l'aimantation steady-state longitudinal (selon l'axe z) est égale à $$M_{ss}= \\frac{M_0(1-E_1)}{1-E_1 \\cos \\theta} = 0.7224$$ . Cette différence s'explique par le fait que l'aimantation est spoilée à la fin de chaque TR (RF et phase spoiling) donc que l'aimantation transversale (selon x/y) est égale à 0."
   ]
  },
  {
   "cell_type": "markdown",
   "metadata": {},
   "source": [
    "* Implémentez le *spoiling* et vérifiez que la valeur correspond à l'équation analytique ci-dessus"
   ]
  },
  {
   "cell_type": "markdown",
   "metadata": {},
   "source": [
    "<h3>4. Spin echo</h3>\n",
    "<h5><u>Simulation</u></h5>\n",
    "\n",
    "\n",
    "![Spin_Echo](img/Spin_Echo.png)\n",
    "\n",
    "Simuler le signal au cours d'un TR et affichez l'aimantation Mx, My et Mz. \n",
    "\n",
    "```T1 = 600 ms\n",
    "T1 = 600  ms\n",
    "T2 = 100  ms\n",
    "df = 10   Hz\n",
    "TR = 500  ms\n",
    "TE = 50   ms\n",
    "dT = 1    ms \n",
    "```\n",
    "\n",
    "* Qu'observez vous au temps TE ? Comment être sur que c'est bien un écho de spin ?\n",
    "\n",
    "Simulez 5 isochromates avec des valeurs différentes d'off-resonance (df) puis affichez  sur le même graphique: La valeur absolue d'un isochromate dans le plan transverse ($M_{Sig}=\\sqrt{x^2+y^2}$) la valeur absolue de la somme des isochromates. \n",
    "\n",
    "* Expliquez pourquoi la courbe de la somme (divisée par le nombre d'isochromates) croise la courbe de la valeur absolue.\n",
    "\n",
    "Refaites la même simulation plusieurs fois pour voir les différences et augmenter le nombre d'isochromates dans la simulation\n",
    "\n",
    "\n",
    "\n",
    "<h5><u>Steady-state</u></h5>\n",
    "\n",
    "* Calculez le steady state au TE de la séquence Spin-Echo\n",
    "\n",
    "* Etendre ce calcul pour une séquence Turbo-spin echo (Echo Train Lenght = 8) [voir présentation pour propagation des équations].\n",
    "\n",
    "  ![Turbo_Spin_Echo](img/Turbo_Spin_Echo.png)\n",
    "\n",
    "* Calculez le steady-state au 1er TE et comparez avec le steady-state de la séquence Spin-Echo. Vérifiez la valeur en mettant un Echo Train Length = 1. Expliquez ce résultat.\n",
    "\n",
    "  \n",
    "\n",
    "<h3>OPTIONAL : BSSFP et banding artefacts</h3>\n",
    "\n",
    "BSSFP est l'acronyme pour \"Balanced Steady-State Free Precession\". C'est une dans laquelle les gradients sont équilibré (dont la somme au cours du TR = 0)\n",
    "\n",
    "<img src=\"img/bssfp_sequence.png\" alt=\"bssfp_sequence\" style=\"zoom: 50%;\" /><img src=\"../../TP/img/bssfp.png\" alt=\"bssfp\" style=\"zoom:50%;\" />\n",
    "\n",
    "Cette séquence est donc équivalente à la séquence d'écho de gradient simulé dans la partie 3. Elle a pour particularité d'avoir un fort signal qui est un compromis T1/T2 avec des TRs court ainsi que de généré des **artéfacts de bande noire**.\n",
    "\n",
    "Pour le simuler il faut prendre un compte l'off-resonance qui peut exister dans un voxel. "
   ]
  },
  {
   "cell_type": "code",
   "execution_count": null,
   "metadata": {},
   "outputs": [],
   "source": []
  }
 ],
 "metadata": {
  "kernelspec": {
   "display_name": "Python 3",
   "language": "python",
   "name": "python3"
  },
  "language_info": {
   "codemirror_mode": {
    "name": "ipython",
    "version": 3
   },
   "file_extension": ".py",
   "mimetype": "text/x-python",
   "name": "python",
   "nbconvert_exporter": "python",
   "pygments_lexer": "ipython3",
   "version": "3.7.4-final"
  }
 },
 "nbformat": 4,
 "nbformat_minor": 4
}